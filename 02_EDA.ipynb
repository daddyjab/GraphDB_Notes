{
 "cells": [
  {
   "cell_type": "markdown",
   "metadata": {
    "colab_type": "text",
    "id": "fxCWIM2rVS8W",
    "pycharm": {}
   },
   "source": [
    "# Exploratory Data Analysis\n",
    "\n",
    "In this notebook you will explore the citation dataset. You should already have installed py2neo, pandas, and matplotlib when setting up our environment, so you will now import them (remember to unset Reset all runtimes before running):"
   ]
  },
  {
   "cell_type": "code",
   "execution_count": 1,
   "metadata": {
    "colab": {},
    "colab_type": "code",
    "id": "I18D2RtEVS8c",
    "pycharm": {}
   },
   "outputs": [],
   "source": [
    "from py2neo import Graph\n",
    "import pandas as pd\n",
    "\n",
    "import matplotlib \n",
    "import matplotlib.pyplot as plt\n",
    "\n",
    "plt.style.use('fivethirtyeight')\n",
    "pd.set_option('display.float_format', lambda x: '%.3f' % x)"
   ]
  },
  {
   "cell_type": "markdown",
   "metadata": {
    "colab_type": "text",
    "id": "DKOkyf3oVS8q",
    "pycharm": {}
   },
   "source": [
    "Next, create a connection to your Neo4j Sandbox, just as you did previously when you set up your environment. \n",
    "\n",
    "<div align=\"left\">\n",
    "    <img src=\"https://github.com/neo4j-contrib/training-v2/blob/master/Courses/DataScience/notebooks/images/sandbox-citations.png?raw=1\" alt=\"Citation Sandbox\"/>\n",
    "</div>\n",
    "\n",
    "Update the cell below to use the IP Address, Bolt Port, and Password, as you did previously."
   ]
  },
  {
   "cell_type": "code",
   "execution_count": 2,
   "metadata": {
    "colab": {},
    "colab_type": "code",
    "id": "-v3VrQUdVS8t",
    "pycharm": {}
   },
   "outputs": [],
   "source": [
    "# Change the line of code below to use the IP Address, Bolt Port, and Password of your Sandbox.\n",
    "# graph = Graph(\"bolt://<IP Address>:<Bolt Port>\", auth=(\"neo4j\", \"<Password>\")) \n",
    " \n",
    "#graph = Graph(\"bolt://52.3.242.176:33698\", auth=(\"neo4j\", \"equivalent-listing-parts\"))\n",
    "graph = Graph(\"bolt:localhost:7687\", auth=(\"neo4j\", \"graphdb\"))"
   ]
  },
  {
   "cell_type": "markdown",
   "metadata": {
    "colab_type": "text",
    "id": "F1lgy6XGVS81",
    "pycharm": {}
   },
   "source": [
    "## What's in our database?\n",
    "\n",
    "Run the following query to check how many nodes our database contains:"
   ]
  },
  {
   "cell_type": "code",
   "execution_count": 3,
   "metadata": {
    "colab": {},
    "colab_type": "code",
    "id": "4-DWZBMfVS84",
    "pycharm": {}
   },
   "outputs": [
    {
     "data": {
      "text/plain": [
       "[{'nodes': [(_-6:Venue {constraints: ['CONSTRAINT ON ( venue:Venue ) ASSERT venue.name IS UNIQUE'], indexes: [], name: 'Venue'}),\n",
       "   (_-4:Article {constraints: ['CONSTRAINT ON ( article:Article ) ASSERT article.index IS UNIQUE'], indexes: [], name: 'Article'}),\n",
       "   (_-5:Author {constraints: ['CONSTRAINT ON ( author:Author ) ASSERT author.name IS UNIQUE'], indexes: [], name: 'Author'})],\n",
       "  'relationships': [(Article)-[:VENUE {}]->(Venue),\n",
       "   (Article)-[:AUTHOR {}]->(Author),\n",
       "   (Article)-[:CITED {}]->(Article)]}]"
      ]
     },
     "execution_count": 3,
     "metadata": {},
     "output_type": "execute_result"
    }
   ],
   "source": [
    "graph.run(\"CALL db.schema()\").data()"
   ]
  },
  {
   "cell_type": "markdown",
   "metadata": {
    "colab_type": "text",
    "id": "67NSjykIVS8-",
    "pycharm": {}
   },
   "source": [
    "If we run that query (CALL db.schema()) in  Neo4j Browser, you see the following visualisation:\n",
    "\n",
    "<img src=\"https://github.com/neo4j-contrib/training-v2/blob/master/Courses/DataScience/notebooks/images/data-science-training.png?raw=1\" alt=\"Graph Data Model\"/>\n"
   ]
  },
  {
   "cell_type": "markdown",
   "metadata": {
    "colab_type": "text",
    "id": "UHJSRE6xVS9A",
    "pycharm": {}
   },
   "source": [
    "Let's drill down a bit. How many nodes do we have for each of these labels? Run this code:"
   ]
  },
  {
   "cell_type": "code",
   "execution_count": 4,
   "metadata": {
    "colab": {},
    "colab_type": "code",
    "id": "1iEpT4u_VS9D",
    "outputId": "b5da2089-3612-49c8-c0b7-9f69f20934d9",
    "pycharm": {}
   },
   "outputs": [
    {
     "data": {
      "text/html": [
       "<div>\n",
       "<style scoped>\n",
       "    .dataframe tbody tr th:only-of-type {\n",
       "        vertical-align: middle;\n",
       "    }\n",
       "\n",
       "    .dataframe tbody tr th {\n",
       "        vertical-align: top;\n",
       "    }\n",
       "\n",
       "    .dataframe thead th {\n",
       "        text-align: right;\n",
       "    }\n",
       "</style>\n",
       "<table border=\"1\" class=\"dataframe\">\n",
       "  <thead>\n",
       "    <tr style=\"text-align: right;\">\n",
       "      <th></th>\n",
       "      <th>label</th>\n",
       "      <th>count</th>\n",
       "    </tr>\n",
       "  </thead>\n",
       "  <tbody>\n",
       "    <tr>\n",
       "      <td>2</td>\n",
       "      <td>Venue</td>\n",
       "      <td>4</td>\n",
       "    </tr>\n",
       "    <tr>\n",
       "      <td>0</td>\n",
       "      <td>Article</td>\n",
       "      <td>51956</td>\n",
       "    </tr>\n",
       "    <tr>\n",
       "      <td>1</td>\n",
       "      <td>Author</td>\n",
       "      <td>80299</td>\n",
       "    </tr>\n",
       "  </tbody>\n",
       "</table>\n",
       "</div>"
      ],
      "text/plain": [
       "     label  count\n",
       "2    Venue      4\n",
       "0  Article  51956\n",
       "1   Author  80299"
      ]
     },
     "execution_count": 4,
     "metadata": {},
     "output_type": "execute_result"
    }
   ],
   "source": [
    "result = {\"label\": [], \"count\": []}\n",
    "for label in graph.run(\"CALL db.labels()\").to_series():\n",
    "    query = f\"MATCH (:`{label}`) RETURN count(*) as count\"\n",
    "    count = graph.run(query).to_data_frame().iloc[0]['count']\n",
    "    result[\"label\"].append(label)\n",
    "    result[\"count\"].append(count)\n",
    "nodes_df = pd.DataFrame(data=result)\n",
    "nodes_df.sort_values(\"count\")"
   ]
  },
  {
   "cell_type": "markdown",
   "metadata": {
    "colab_type": "text",
    "id": "7PQCDHIQVS9O",
    "pycharm": {}
   },
   "source": [
    "You can visualize the counts using matplotlib> Run the following code:"
   ]
  },
  {
   "cell_type": "code",
   "execution_count": 5,
   "metadata": {
    "colab": {},
    "colab_type": "code",
    "id": "rE78EOiIVS9P",
    "pycharm": {}
   },
   "outputs": [
    {
     "data": {
      "image/png": "[encoded data removed]",
      "text/plain": [
       "<Figure size 432x288 with 1 Axes>"
      ]
     },
     "metadata": {
      "needs_background": "light"
     },
     "output_type": "display_data"
    }
   ],
   "source": [
    "nodes_df.plot(kind='bar', x='label', y='count', legend=None, title=\"Node Cardinalities\")\n",
    "plt.yscale(\"log\")\n",
    "plt.xticks(rotation=45)\n",
    "plt.tight_layout()\n",
    "plt.show()"
   ]
  },
  {
   "cell_type": "markdown",
   "metadata": {
    "colab_type": "text",
    "id": "RplcNvxWVS9V",
    "pycharm": {}
   },
   "source": [
    "What types of relationships do we have in our graph? Run this code:"
   ]
  },
  {
   "cell_type": "code",
   "execution_count": 6,
   "metadata": {
    "colab": {},
    "colab_type": "code",
    "id": "uOhtC3A-VS9X",
    "pycharm": {}
   },
   "outputs": [
    {
     "data": {
      "text/html": [
       "<div>\n",
       "<style scoped>\n",
       "    .dataframe tbody tr th:only-of-type {\n",
       "        vertical-align: middle;\n",
       "    }\n",
       "\n",
       "    .dataframe tbody tr th {\n",
       "        vertical-align: top;\n",
       "    }\n",
       "\n",
       "    .dataframe thead th {\n",
       "        text-align: right;\n",
       "    }\n",
       "</style>\n",
       "<table border=\"1\" class=\"dataframe\">\n",
       "  <thead>\n",
       "    <tr style=\"text-align: right;\">\n",
       "      <th></th>\n",
       "      <th>relType</th>\n",
       "      <th>count</th>\n",
       "    </tr>\n",
       "  </thead>\n",
       "  <tbody>\n",
       "    <tr>\n",
       "      <td>2</td>\n",
       "      <td>CITED</td>\n",
       "      <td>28706</td>\n",
       "    </tr>\n",
       "    <tr>\n",
       "      <td>0</td>\n",
       "      <td>VENUE</td>\n",
       "      <td>51956</td>\n",
       "    </tr>\n",
       "    <tr>\n",
       "      <td>1</td>\n",
       "      <td>AUTHOR</td>\n",
       "      <td>140575</td>\n",
       "    </tr>\n",
       "  </tbody>\n",
       "</table>\n",
       "</div>"
      ],
      "text/plain": [
       "  relType   count\n",
       "2   CITED   28706\n",
       "0   VENUE   51956\n",
       "1  AUTHOR  140575"
      ]
     },
     "execution_count": 6,
     "metadata": {},
     "output_type": "execute_result"
    }
   ],
   "source": [
    "result = {\"relType\": [], \"count\": []}\n",
    "for relationship_type in graph.run(\"CALL db.relationshipTypes()\").to_series():\n",
    "    query = f\"MATCH ()-[:`{relationship_type}`]->() RETURN count(*) as count\"\n",
    "    count = graph.run(query).to_data_frame().iloc[0]['count']\n",
    "    result[\"relType\"].append(relationship_type)\n",
    "    result[\"count\"].append(count)\n",
    "rels_df = pd.DataFrame(data=result)\n",
    "rels_df.sort_values(\"count\")"
   ]
  },
  {
   "cell_type": "markdown",
   "metadata": {
    "colab_type": "text",
    "id": "njb5nWlvVS9c",
    "pycharm": {}
   },
   "source": [
    "You can visualize the counts using matplotlib. Run  the following code:"
   ]
  },
  {
   "cell_type": "code",
   "execution_count": 7,
   "metadata": {
    "colab": {},
    "colab_type": "code",
    "id": "MWoTA88mVS9d",
    "pycharm": {}
   },
   "outputs": [
    {
     "data": {
      "image/png": "[encoded data removed]",
      "text/plain": [
       "<Figure size 432x288 with 1 Axes>"
      ]
     },
     "metadata": {
      "needs_background": "light"
     },
     "output_type": "display_data"
    }
   ],
   "source": [
    "rels_df.plot(kind='bar', x='relType', y='count', legend=None, title=\"Relationship Cardinalities\")\n",
    "plt.xticks(rotation=45)\n",
    "plt.tight_layout()\n",
    "plt.show()"
   ]
  },
  {
   "cell_type": "markdown",
   "metadata": {
    "colab_type": "text",
    "id": "wu_ZBWJsVS9k",
    "pycharm": {}
   },
   "source": [
    "Now let's explore the citation data. The following query finds 25 authors, articles, venues, and also shows the number of articles that article has cited, as well as the number of articles that it's been cited by.\n",
    "Run this code:"
   ]
  },
  {
   "cell_type": "code",
   "execution_count": 8,
   "metadata": {
    "colab": {},
    "colab_type": "code",
    "id": "ajw7BYEhVS9m",
    "pycharm": {}
   },
   "outputs": [
    {
     "data": {
      "text/html": [
       "<div>\n",
       "<style scoped>\n",
       "    .dataframe tbody tr th:only-of-type {\n",
       "        vertical-align: middle;\n",
       "    }\n",
       "\n",
       "    .dataframe tbody tr th {\n",
       "        vertical-align: top;\n",
       "    }\n",
       "\n",
       "    .dataframe thead th {\n",
       "        text-align: right;\n",
       "    }\n",
       "</style>\n",
       "<table border=\"1\" class=\"dataframe\">\n",
       "  <thead>\n",
       "    <tr style=\"text-align: right;\">\n",
       "      <th></th>\n",
       "      <th>article</th>\n",
       "      <th>author</th>\n",
       "      <th>venue</th>\n",
       "      <th>citationsGiven</th>\n",
       "      <th>citationsReceived</th>\n",
       "    </tr>\n",
       "  </thead>\n",
       "  <tbody>\n",
       "    <tr>\n",
       "      <td>0</td>\n",
       "      <td>Efficient maximum flow algorithms</td>\n",
       "      <td>Robert Endre Tarjan</td>\n",
       "      <td>Communications of The ACM</td>\n",
       "      <td>0</td>\n",
       "      <td>0</td>\n",
       "    </tr>\n",
       "    <tr>\n",
       "      <td>1</td>\n",
       "      <td>\"Yes, it can be done\"</td>\n",
       "      <td>Moshe Y. Vardi</td>\n",
       "      <td>Communications of The ACM</td>\n",
       "      <td>0</td>\n",
       "      <td>0</td>\n",
       "    </tr>\n",
       "    <tr>\n",
       "      <td>2</td>\n",
       "      <td>Crystal lattice automata</td>\n",
       "      <td>Robert E. Mercer</td>\n",
       "      <td>Lecture Notes in Computer Science</td>\n",
       "      <td>0</td>\n",
       "      <td>0</td>\n",
       "    </tr>\n",
       "    <tr>\n",
       "      <td>3</td>\n",
       "      <td>A randomly perturbed iterative proper orthogon...</td>\n",
       "      <td>Suman Chakravorty</td>\n",
       "      <td>advances in computing and communications</td>\n",
       "      <td>0</td>\n",
       "      <td>0</td>\n",
       "    </tr>\n",
       "    <tr>\n",
       "      <td>4</td>\n",
       "      <td>An Overview of Probabilistic Process Algebras ...</td>\n",
       "      <td>Natalia López</td>\n",
       "      <td>Lecture Notes in Computer Science</td>\n",
       "      <td>2</td>\n",
       "      <td>1</td>\n",
       "    </tr>\n",
       "    <tr>\n",
       "      <td>5</td>\n",
       "      <td>A scheme for the introduction of 3rd party, ap...</td>\n",
       "      <td>Lazaros F. Merakos</td>\n",
       "      <td>Lecture Notes in Computer Science</td>\n",
       "      <td>0</td>\n",
       "      <td>0</td>\n",
       "    </tr>\n",
       "    <tr>\n",
       "      <td>6</td>\n",
       "      <td>Partial evaluation for the lambda calculus</td>\n",
       "      <td>Peter Sestoft</td>\n",
       "      <td>Lecture Notes in Computer Science</td>\n",
       "      <td>0</td>\n",
       "      <td>0</td>\n",
       "    </tr>\n",
       "    <tr>\n",
       "      <td>7</td>\n",
       "      <td>A Unified Approach to Related-Key Attacks</td>\n",
       "      <td>Orr Dunkelman</td>\n",
       "      <td>Lecture Notes in Computer Science</td>\n",
       "      <td>0</td>\n",
       "      <td>0</td>\n",
       "    </tr>\n",
       "    <tr>\n",
       "      <td>8</td>\n",
       "      <td>Ripple reduction in AC-DC power converters via...</td>\n",
       "      <td>Tingshu Hu</td>\n",
       "      <td>advances in computing and communications</td>\n",
       "      <td>0</td>\n",
       "      <td>0</td>\n",
       "    </tr>\n",
       "    <tr>\n",
       "      <td>9</td>\n",
       "      <td>Parallel hardware design in B</td>\n",
       "      <td>Stefan Hallerstede</td>\n",
       "      <td>Lecture Notes in Computer Science</td>\n",
       "      <td>0</td>\n",
       "      <td>1</td>\n",
       "    </tr>\n",
       "    <tr>\n",
       "      <td>10</td>\n",
       "      <td>COMPOSE: A System For Composite Specification ...</td>\n",
       "      <td>Narain H. Gehani</td>\n",
       "      <td>Lecture Notes in Computer Science</td>\n",
       "      <td>0</td>\n",
       "      <td>1</td>\n",
       "    </tr>\n",
       "    <tr>\n",
       "      <td>11</td>\n",
       "      <td>Performance enhancement of a self-scheduled lo...</td>\n",
       "      <td>David Saussié</td>\n",
       "      <td>advances in computing and communications</td>\n",
       "      <td>0</td>\n",
       "      <td>1</td>\n",
       "    </tr>\n",
       "    <tr>\n",
       "      <td>12</td>\n",
       "      <td>An effective, efficient XML data broadcasting ...</td>\n",
       "      <td>Sangkeun Lee</td>\n",
       "      <td>Lecture Notes in Computer Science</td>\n",
       "      <td>0</td>\n",
       "      <td>0</td>\n",
       "    </tr>\n",
       "    <tr>\n",
       "      <td>13</td>\n",
       "      <td>An exploratory study of the evolution of softw...</td>\n",
       "      <td>Yann-Gaël Guéhéneuc</td>\n",
       "      <td>international conference on software engineering</td>\n",
       "      <td>1</td>\n",
       "      <td>5</td>\n",
       "    </tr>\n",
       "    <tr>\n",
       "      <td>14</td>\n",
       "      <td>Specificity of hybridization between DNA seque...</td>\n",
       "      <td>Azuma Ohuchi</td>\n",
       "      <td>Lecture Notes in Computer Science</td>\n",
       "      <td>0</td>\n",
       "      <td>0</td>\n",
       "    </tr>\n",
       "    <tr>\n",
       "      <td>15</td>\n",
       "      <td>An automated approach for classification of pl...</td>\n",
       "      <td>Radha Kokare</td>\n",
       "      <td>advances in computing and communications</td>\n",
       "      <td>0</td>\n",
       "      <td>0</td>\n",
       "    </tr>\n",
       "    <tr>\n",
       "      <td>16</td>\n",
       "      <td>Generating Personal Travel Guides from Discour...</td>\n",
       "      <td>Ross Wilkinson</td>\n",
       "      <td>Lecture Notes in Computer Science</td>\n",
       "      <td>0</td>\n",
       "      <td>0</td>\n",
       "    </tr>\n",
       "    <tr>\n",
       "      <td>17</td>\n",
       "      <td>Exact Stability Analysis of Discrete-Time Line...</td>\n",
       "      <td>Richard M. Murray</td>\n",
       "      <td>advances in computing and communications</td>\n",
       "      <td>1</td>\n",
       "      <td>2</td>\n",
       "    </tr>\n",
       "    <tr>\n",
       "      <td>18</td>\n",
       "      <td>Data-driven quality control of batch processes...</td>\n",
       "      <td>Brandon Corbett</td>\n",
       "      <td>advances in computing and communications</td>\n",
       "      <td>0</td>\n",
       "      <td>0</td>\n",
       "    </tr>\n",
       "    <tr>\n",
       "      <td>19</td>\n",
       "      <td>Viewpoints on emergent semantics</td>\n",
       "      <td>Tiziana Catarci</td>\n",
       "      <td>Lecture Notes in Computer Science</td>\n",
       "      <td>5</td>\n",
       "      <td>1</td>\n",
       "    </tr>\n",
       "    <tr>\n",
       "      <td>20</td>\n",
       "      <td>Blind Source Separation with Pattern Expressio...</td>\n",
       "      <td>Zhang Hongyi</td>\n",
       "      <td>Lecture Notes in Computer Science</td>\n",
       "      <td>0</td>\n",
       "      <td>0</td>\n",
       "    </tr>\n",
       "    <tr>\n",
       "      <td>21</td>\n",
       "      <td>Guided test generation for web applications</td>\n",
       "      <td>Saurabh Sinha</td>\n",
       "      <td>international conference on software engineering</td>\n",
       "      <td>3</td>\n",
       "      <td>4</td>\n",
       "    </tr>\n",
       "    <tr>\n",
       "      <td>22</td>\n",
       "      <td>VisAr3D: an approach to software architecture ...</td>\n",
       "      <td>Claudia Susie C. Rodrigues</td>\n",
       "      <td>international conference on software engineering</td>\n",
       "      <td>0</td>\n",
       "      <td>1</td>\n",
       "    </tr>\n",
       "    <tr>\n",
       "      <td>23</td>\n",
       "      <td>A new cluster validity index for type-2 fuzzy ...</td>\n",
       "      <td>Shahin Ara Begum</td>\n",
       "      <td>advances in computing and communications</td>\n",
       "      <td>0</td>\n",
       "      <td>0</td>\n",
       "    </tr>\n",
       "    <tr>\n",
       "      <td>24</td>\n",
       "      <td>Evaluating the inference mechanism of adaptive...</td>\n",
       "      <td>Gerhard Weber</td>\n",
       "      <td>Lecture Notes in Computer Science</td>\n",
       "      <td>2</td>\n",
       "      <td>1</td>\n",
       "    </tr>\n",
       "  </tbody>\n",
       "</table>\n",
       "</div>"
      ],
      "text/plain": [
       "                                              article  \\\n",
       "0                   Efficient maximum flow algorithms   \n",
       "1                               \"Yes, it can be done\"   \n",
       "2                            Crystal lattice automata   \n",
       "3   A randomly perturbed iterative proper orthogon...   \n",
       "4   An Overview of Probabilistic Process Algebras ...   \n",
       "5   A scheme for the introduction of 3rd party, ap...   \n",
       "6          Partial evaluation for the lambda calculus   \n",
       "7           A Unified Approach to Related-Key Attacks   \n",
       "8   Ripple reduction in AC-DC power converters via...   \n",
       "9                       Parallel hardware design in B   \n",
       "10  COMPOSE: A System For Composite Specification ...   \n",
       "11  Performance enhancement of a self-scheduled lo...   \n",
       "12  An effective, efficient XML data broadcasting ...   \n",
       "13  An exploratory study of the evolution of softw...   \n",
       "14  Specificity of hybridization between DNA seque...   \n",
       "15  An automated approach for classification of pl...   \n",
       "16  Generating Personal Travel Guides from Discour...   \n",
       "17  Exact Stability Analysis of Discrete-Time Line...   \n",
       "18  Data-driven quality control of batch processes...   \n",
       "19                   Viewpoints on emergent semantics   \n",
       "20  Blind Source Separation with Pattern Expressio...   \n",
       "21        Guided test generation for web applications   \n",
       "22  VisAr3D: an approach to software architecture ...   \n",
       "23  A new cluster validity index for type-2 fuzzy ...   \n",
       "24  Evaluating the inference mechanism of adaptive...   \n",
       "\n",
       "                        author  \\\n",
       "0          Robert Endre Tarjan   \n",
       "1               Moshe Y. Vardi   \n",
       "2             Robert E. Mercer   \n",
       "3            Suman Chakravorty   \n",
       "4                Natalia López   \n",
       "5           Lazaros F. Merakos   \n",
       "6                Peter Sestoft   \n",
       "7                Orr Dunkelman   \n",
       "8                   Tingshu Hu   \n",
       "9           Stefan Hallerstede   \n",
       "10            Narain H. Gehani   \n",
       "11               David Saussié   \n",
       "12                Sangkeun Lee   \n",
       "13         Yann-Gaël Guéhéneuc   \n",
       "14                Azuma Ohuchi   \n",
       "15                Radha Kokare   \n",
       "16              Ross Wilkinson   \n",
       "17           Richard M. Murray   \n",
       "18             Brandon Corbett   \n",
       "19             Tiziana Catarci   \n",
       "20                Zhang Hongyi   \n",
       "21               Saurabh Sinha   \n",
       "22  Claudia Susie C. Rodrigues   \n",
       "23            Shahin Ara Begum   \n",
       "24               Gerhard Weber   \n",
       "\n",
       "                                               venue  citationsGiven  \\\n",
       "0                          Communications of The ACM               0   \n",
       "1                          Communications of The ACM               0   \n",
       "2                  Lecture Notes in Computer Science               0   \n",
       "3           advances in computing and communications               0   \n",
       "4                  Lecture Notes in Computer Science               2   \n",
       "5                  Lecture Notes in Computer Science               0   \n",
       "6                  Lecture Notes in Computer Science               0   \n",
       "7                  Lecture Notes in Computer Science               0   \n",
       "8           advances in computing and communications               0   \n",
       "9                  Lecture Notes in Computer Science               0   \n",
       "10                 Lecture Notes in Computer Science               0   \n",
       "11          advances in computing and communications               0   \n",
       "12                 Lecture Notes in Computer Science               0   \n",
       "13  international conference on software engineering               1   \n",
       "14                 Lecture Notes in Computer Science               0   \n",
       "15          advances in computing and communications               0   \n",
       "16                 Lecture Notes in Computer Science               0   \n",
       "17          advances in computing and communications               1   \n",
       "18          advances in computing and communications               0   \n",
       "19                 Lecture Notes in Computer Science               5   \n",
       "20                 Lecture Notes in Computer Science               0   \n",
       "21  international conference on software engineering               3   \n",
       "22  international conference on software engineering               0   \n",
       "23          advances in computing and communications               0   \n",
       "24                 Lecture Notes in Computer Science               2   \n",
       "\n",
       "    citationsReceived  \n",
       "0                   0  \n",
       "1                   0  \n",
       "2                   0  \n",
       "3                   0  \n",
       "4                   1  \n",
       "5                   0  \n",
       "6                   0  \n",
       "7                   0  \n",
       "8                   0  \n",
       "9                   1  \n",
       "10                  1  \n",
       "11                  1  \n",
       "12                  0  \n",
       "13                  5  \n",
       "14                  0  \n",
       "15                  0  \n",
       "16                  0  \n",
       "17                  2  \n",
       "18                  0  \n",
       "19                  1  \n",
       "20                  0  \n",
       "21                  4  \n",
       "22                  1  \n",
       "23                  0  \n",
       "24                  1  "
      ]
     },
     "execution_count": 8,
     "metadata": {},
     "output_type": "execute_result"
    }
   ],
   "source": [
    "exploratory_query = \"\"\"\n",
    "MATCH (author:Author)<-[:AUTHOR]-(article:Article)-[:VENUE]->(venue)\n",
    "RETURN article.title AS article, author.name AS author, venue.name AS venue, \n",
    "       size((article)-[:CITED]->()) AS citationsGiven, size((article)<-[:CITED]-()) AS citationsReceived\n",
    "ORDER BY rand()\n",
    "LIMIT 25\n",
    "\"\"\"\n",
    "\n",
    "graph.run(exploratory_query).to_data_frame()"
   ]
  },
  {
   "cell_type": "markdown",
   "metadata": {
    "colab_type": "text",
    "id": "FGBzPMHdVS9t",
    "pycharm": {}
   },
   "source": [
    "Let's look into the citation data more closely. Here is a query that returns the number of citations that each article has, and then creates a distribution of those counts using pandas `describe` function. Run this code:"
   ]
  },
  {
   "cell_type": "code",
   "execution_count": 9,
   "metadata": {
    "colab": {},
    "colab_type": "code",
    "id": "Q075qoEgVS9u",
    "outputId": "9aba9382-fd91-40ca-e486-77e9fa3ade07",
    "pycharm": {}
   },
   "outputs": [
    {
     "data": {
      "text/html": [
       "<div>\n",
       "<style scoped>\n",
       "    .dataframe tbody tr th:only-of-type {\n",
       "        vertical-align: middle;\n",
       "    }\n",
       "\n",
       "    .dataframe tbody tr th {\n",
       "        vertical-align: top;\n",
       "    }\n",
       "\n",
       "    .dataframe thead th {\n",
       "        text-align: right;\n",
       "    }\n",
       "</style>\n",
       "<table border=\"1\" class=\"dataframe\">\n",
       "  <thead>\n",
       "    <tr style=\"text-align: right;\">\n",
       "      <th></th>\n",
       "      <th>citations</th>\n",
       "    </tr>\n",
       "  </thead>\n",
       "  <tbody>\n",
       "    <tr>\n",
       "      <td>count</td>\n",
       "      <td>51956.000</td>\n",
       "    </tr>\n",
       "    <tr>\n",
       "      <td>mean</td>\n",
       "      <td>0.553</td>\n",
       "    </tr>\n",
       "    <tr>\n",
       "      <td>std</td>\n",
       "      <td>2.418</td>\n",
       "    </tr>\n",
       "    <tr>\n",
       "      <td>min</td>\n",
       "      <td>0.000</td>\n",
       "    </tr>\n",
       "    <tr>\n",
       "      <td>25%</td>\n",
       "      <td>0.000</td>\n",
       "    </tr>\n",
       "    <tr>\n",
       "      <td>50%</td>\n",
       "      <td>0.000</td>\n",
       "    </tr>\n",
       "    <tr>\n",
       "      <td>75%</td>\n",
       "      <td>0.000</td>\n",
       "    </tr>\n",
       "    <tr>\n",
       "      <td>90%</td>\n",
       "      <td>1.000</td>\n",
       "    </tr>\n",
       "    <tr>\n",
       "      <td>99%</td>\n",
       "      <td>8.000</td>\n",
       "    </tr>\n",
       "    <tr>\n",
       "      <td>max</td>\n",
       "      <td>211.000</td>\n",
       "    </tr>\n",
       "  </tbody>\n",
       "</table>\n",
       "</div>"
      ],
      "text/plain": [
       "       citations\n",
       "count  51956.000\n",
       "mean       0.553\n",
       "std        2.418\n",
       "min        0.000\n",
       "25%        0.000\n",
       "50%        0.000\n",
       "75%        0.000\n",
       "90%        1.000\n",
       "99%        8.000\n",
       "max      211.000"
      ]
     },
     "execution_count": 9,
     "metadata": {},
     "output_type": "execute_result"
    }
   ],
   "source": [
    "query = \"\"\"\n",
    "MATCH (a:Article)\n",
    "RETURN size((a)<-[:CITED]-()) AS citations\n",
    "\"\"\"\n",
    "\n",
    "citation_df = graph.run(query).to_data_frame()\n",
    "citation_df.describe([.25, .5, .75, .9, .99])"
   ]
  },
  {
   "cell_type": "markdown",
   "metadata": {
    "colab_type": "text",
    "id": "j0FWvDeNVS9z",
    "pycharm": {}
   },
   "source": [
    "Most articles are being cited very few times. 99% of articles have 8 citations or less. We do, however, have one article that's been cited more than 200 times. We'll use a log scale histogram to visualise the data. Run this code:"
   ]
  },
  {
   "cell_type": "code",
   "execution_count": 11,
   "metadata": {
    "colab": {},
    "colab_type": "code",
    "id": "iZSnxdBqVS91",
    "outputId": "66cc504d-ebab-478e-f82d-289e041510d0",
    "pycharm": {}
   },
   "outputs": [
    {
     "data": {
      "image/png": "[encoded data removed]",
      "text/plain": [
       "<Figure size 432x288 with 1 Axes>"
      ]
     },
     "metadata": {
      "needs_background": "light"
     },
     "output_type": "display_data"
    }
   ],
   "source": [
    "fig1, ax1 = plt.subplots()\n",
    "ax1.hist(pd.Series(citation_df['citations'].dropna()), 1200, density=True, facecolor='g', alpha=0.75)\n",
    "ax1.set_xscale(\"log\")\n",
    "plt.tight_layout()\n",
    "plt.show()"
   ]
  },
  {
   "cell_type": "markdown",
   "metadata": {
    "colab_type": "text",
    "id": "biPn0X5BVS95",
    "pycharm": {}
   },
   "source": [
    "## Exercise instructions\n",
    "\n",
    "1. Create a similar query showing the articles that cite the most other papers? Note that you'll only need to do a slight tweak of the Cypher query to do this. \n",
    "2. What about a distribution of the number of articles published by authors?\n",
    "\n",
    "Keep the results of this exercise handy as they may be useful for the quiz at the end of this module."
   ]
  },
  {
   "cell_type": "code",
   "execution_count": 13,
   "metadata": {
    "colab": {},
    "colab_type": "code",
    "id": "Q075qoEgVS9u",
    "outputId": "9aba9382-fd91-40ca-e486-77e9fa3ade07",
    "pycharm": {}
   },
   "outputs": [
    {
     "data": {
      "text/html": [
       "<div>\n",
       "<style scoped>\n",
       "    .dataframe tbody tr th:only-of-type {\n",
       "        vertical-align: middle;\n",
       "    }\n",
       "\n",
       "    .dataframe tbody tr th {\n",
       "        vertical-align: top;\n",
       "    }\n",
       "\n",
       "    .dataframe thead th {\n",
       "        text-align: right;\n",
       "    }\n",
       "</style>\n",
       "<table border=\"1\" class=\"dataframe\">\n",
       "  <thead>\n",
       "    <tr style=\"text-align: right;\">\n",
       "      <th></th>\n",
       "      <th>citations</th>\n",
       "    </tr>\n",
       "  </thead>\n",
       "  <tbody>\n",
       "    <tr>\n",
       "      <td>count</td>\n",
       "      <td>51956.000</td>\n",
       "    </tr>\n",
       "    <tr>\n",
       "      <td>mean</td>\n",
       "      <td>0.553</td>\n",
       "    </tr>\n",
       "    <tr>\n",
       "      <td>std</td>\n",
       "      <td>1.301</td>\n",
       "    </tr>\n",
       "    <tr>\n",
       "      <td>min</td>\n",
       "      <td>0.000</td>\n",
       "    </tr>\n",
       "    <tr>\n",
       "      <td>25%</td>\n",
       "      <td>0.000</td>\n",
       "    </tr>\n",
       "    <tr>\n",
       "      <td>50%</td>\n",
       "      <td>0.000</td>\n",
       "    </tr>\n",
       "    <tr>\n",
       "      <td>75%</td>\n",
       "      <td>1.000</td>\n",
       "    </tr>\n",
       "    <tr>\n",
       "      <td>90%</td>\n",
       "      <td>2.000</td>\n",
       "    </tr>\n",
       "    <tr>\n",
       "      <td>99%</td>\n",
       "      <td>6.000</td>\n",
       "    </tr>\n",
       "    <tr>\n",
       "      <td>max</td>\n",
       "      <td>51.000</td>\n",
       "    </tr>\n",
       "  </tbody>\n",
       "</table>\n",
       "</div>"
      ],
      "text/plain": [
       "       citations\n",
       "count  51956.000\n",
       "mean       0.553\n",
       "std        1.301\n",
       "min        0.000\n",
       "25%        0.000\n",
       "50%        0.000\n",
       "75%        1.000\n",
       "90%        2.000\n",
       "99%        6.000\n",
       "max       51.000"
      ]
     },
     "execution_count": 13,
     "metadata": {},
     "output_type": "execute_result"
    }
   ],
   "source": [
    "# Articles that cite the most other articles\n",
    "query = \"\"\"\n",
    "MATCH (a:Article)\n",
    "RETURN size((a)-[:CITED]->()) AS citations\n",
    "\"\"\"\n",
    "\n",
    "citation_df = graph.run(query).to_data_frame()\n",
    "citation_df.describe([.25, .5, .75, .9, .99])"
   ]
  },
  {
   "cell_type": "code",
   "execution_count": 19,
   "metadata": {},
   "outputs": [
    {
     "data": {
      "text/html": [
       "<div>\n",
       "<style scoped>\n",
       "    .dataframe tbody tr th:only-of-type {\n",
       "        vertical-align: middle;\n",
       "    }\n",
       "\n",
       "    .dataframe tbody tr th {\n",
       "        vertical-align: top;\n",
       "    }\n",
       "\n",
       "    .dataframe thead th {\n",
       "        text-align: right;\n",
       "    }\n",
       "</style>\n",
       "<table border=\"1\" class=\"dataframe\">\n",
       "  <thead>\n",
       "    <tr style=\"text-align: right;\">\n",
       "      <th></th>\n",
       "      <th>authorName</th>\n",
       "      <th>articlesAuthored</th>\n",
       "    </tr>\n",
       "  </thead>\n",
       "  <tbody>\n",
       "    <tr>\n",
       "      <td>0</td>\n",
       "      <td>Peter G. Neumann</td>\n",
       "      <td>89</td>\n",
       "    </tr>\n",
       "    <tr>\n",
       "      <td>1</td>\n",
       "      <td>Peter J. Denning</td>\n",
       "      <td>80</td>\n",
       "    </tr>\n",
       "    <tr>\n",
       "      <td>2</td>\n",
       "      <td>Moshe Y. Vardi</td>\n",
       "      <td>72</td>\n",
       "    </tr>\n",
       "    <tr>\n",
       "      <td>3</td>\n",
       "      <td>Pamela Samuelson</td>\n",
       "      <td>71</td>\n",
       "    </tr>\n",
       "    <tr>\n",
       "      <td>4</td>\n",
       "      <td>Bart Preneel</td>\n",
       "      <td>65</td>\n",
       "    </tr>\n",
       "    <tr>\n",
       "      <td>5</td>\n",
       "      <td>Vinton G. Cerf</td>\n",
       "      <td>56</td>\n",
       "    </tr>\n",
       "    <tr>\n",
       "      <td>6</td>\n",
       "      <td>Barry W. Boehm</td>\n",
       "      <td>53</td>\n",
       "    </tr>\n",
       "    <tr>\n",
       "      <td>7</td>\n",
       "      <td>Mark Guzdial</td>\n",
       "      <td>49</td>\n",
       "    </tr>\n",
       "    <tr>\n",
       "      <td>8</td>\n",
       "      <td>Edwin R. Hancock</td>\n",
       "      <td>47</td>\n",
       "    </tr>\n",
       "    <tr>\n",
       "      <td>9</td>\n",
       "      <td>Josef Kittler</td>\n",
       "      <td>46</td>\n",
       "    </tr>\n",
       "  </tbody>\n",
       "</table>\n",
       "</div>"
      ],
      "text/plain": [
       "         authorName  articlesAuthored\n",
       "0  Peter G. Neumann                89\n",
       "1  Peter J. Denning                80\n",
       "2    Moshe Y. Vardi                72\n",
       "3  Pamela Samuelson                71\n",
       "4      Bart Preneel                65\n",
       "5    Vinton G. Cerf                56\n",
       "6    Barry W. Boehm                53\n",
       "7      Mark Guzdial                49\n",
       "8  Edwin R. Hancock                47\n",
       "9     Josef Kittler                46"
      ]
     },
     "execution_count": 19,
     "metadata": {},
     "output_type": "execute_result"
    }
   ],
   "source": [
    "# Number of articles published by authors\n",
    "exploratory_query = \"\"\"\n",
    "MATCH (author:Author)<-[:AUTHOR]-(article:Article)\n",
    "RETURN author.name AS authorName, count(article) as articlesAuthored\n",
    "ORDER BY articlesAuthored DESC, authorName\n",
    "LIMIT 10\n",
    "\"\"\"\n",
    "\n",
    "auth_df = graph.run(exploratory_query).to_data_frame()\n",
    "auth_df"
   ]
  },
  {
   "cell_type": "code",
   "execution_count": 21,
   "metadata": {},
   "outputs": [
    {
     "data": {
      "text/html": [
       "<div>\n",
       "<style scoped>\n",
       "    .dataframe tbody tr th:only-of-type {\n",
       "        vertical-align: middle;\n",
       "    }\n",
       "\n",
       "    .dataframe tbody tr th {\n",
       "        vertical-align: top;\n",
       "    }\n",
       "\n",
       "    .dataframe thead th {\n",
       "        text-align: right;\n",
       "    }\n",
       "</style>\n",
       "<table border=\"1\" class=\"dataframe\">\n",
       "  <thead>\n",
       "    <tr style=\"text-align: right;\">\n",
       "      <th></th>\n",
       "      <th>articlesAuthored</th>\n",
       "    </tr>\n",
       "  </thead>\n",
       "  <tbody>\n",
       "    <tr>\n",
       "      <td>count</td>\n",
       "      <td>10.000</td>\n",
       "    </tr>\n",
       "    <tr>\n",
       "      <td>mean</td>\n",
       "      <td>62.800</td>\n",
       "    </tr>\n",
       "    <tr>\n",
       "      <td>std</td>\n",
       "      <td>14.921</td>\n",
       "    </tr>\n",
       "    <tr>\n",
       "      <td>min</td>\n",
       "      <td>46.000</td>\n",
       "    </tr>\n",
       "    <tr>\n",
       "      <td>25%</td>\n",
       "      <td>50.000</td>\n",
       "    </tr>\n",
       "    <tr>\n",
       "      <td>50%</td>\n",
       "      <td>60.500</td>\n",
       "    </tr>\n",
       "    <tr>\n",
       "      <td>75%</td>\n",
       "      <td>71.750</td>\n",
       "    </tr>\n",
       "    <tr>\n",
       "      <td>90%</td>\n",
       "      <td>80.900</td>\n",
       "    </tr>\n",
       "    <tr>\n",
       "      <td>99%</td>\n",
       "      <td>88.190</td>\n",
       "    </tr>\n",
       "    <tr>\n",
       "      <td>max</td>\n",
       "      <td>89.000</td>\n",
       "    </tr>\n",
       "  </tbody>\n",
       "</table>\n",
       "</div>"
      ],
      "text/plain": [
       "       articlesAuthored\n",
       "count            10.000\n",
       "mean             62.800\n",
       "std              14.921\n",
       "min              46.000\n",
       "25%              50.000\n",
       "50%              60.500\n",
       "75%              71.750\n",
       "90%              80.900\n",
       "99%              88.190\n",
       "max              89.000"
      ]
     },
     "execution_count": 21,
     "metadata": {},
     "output_type": "execute_result"
    }
   ],
   "source": [
    "# Distribution of # of articles published by authors\n",
    "auth_df.describe([.25, .5, .75, .9, .99])"
   ]
  },
  {
   "cell_type": "code",
   "execution_count": 35,
   "metadata": {
    "colab": {},
    "colab_type": "code",
    "id": "iZSnxdBqVS91",
    "outputId": "66cc504d-ebab-478e-f82d-289e041510d0",
    "pycharm": {}
   },
   "outputs": [
    {
     "data": {
      "image/png": "[encoded data removed]",
      "text/plain": [
       "<Figure size 432x288 with 1 Axes>"
      ]
     },
     "metadata": {
      "needs_background": "light"
     },
     "output_type": "display_data"
    }
   ],
   "source": [
    "fig1, ax1 = plt.subplots()\n",
    "ax1.hist(pd.Series(auth_df['articlesAuthored'].dropna()), 10, density=True, facecolor='g', alpha=0.75)\n",
    "# ax1.set_xscale(\"log\")\n",
    "plt.tight_layout()\n",
    "plt.show()"
   ]
  },
  {
   "cell_type": "code",
   "execution_count": null,
   "metadata": {},
   "outputs": [],
   "source": []
  }
 ],
 "metadata": {
  "colab": {
   "name": "02_EDA.ipynb",
   "provenance": []
  },
  "kernelspec": {
   "display_name": "Python 3",
   "language": "python",
   "name": "python3"
  },
  "language_info": {
   "codemirror_mode": {
    "name": "ipython",
    "version": 3
   },
   "file_extension": ".py",
   "mimetype": "text/x-python",
   "name": "python",
   "nbconvert_exporter": "python",
   "pygments_lexer": "ipython3",
   "version": "3.6.9"
  }
 },
 "nbformat": 4,
 "nbformat_minor": 1
}

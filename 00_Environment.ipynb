{
 "cells": [
  {
   "cell_type": "markdown",
   "metadata": {
    "colab_type": "text",
    "id": "-KKpBuD9ac-7",
    "pycharm": {}
   },
   "source": [
    "# Setting up your environment\n",
    "\n",
    "In this notebook you will set up the python environment for the course.\n",
    "\n",
    "## Libraries\n",
    "\n",
    "First you will install some libraries that are required for the exercises.\n",
    "\n",
    "Note: When you execute your first command for the notebook you will be asked if you want to reset all runtimes before running.\n",
    "This option should be unticked so you can use your credentials across notebooks.\n",
    "\n",
    "<div align=\"left\">\n",
    "    <img src=\"https://github.com/neo4j-contrib/training-v2/blob/master/Courses/DataScience/notebooks/images/google-colab.png?raw=1\" alt=\"Google Colabatory\"/>\n",
    "</div>\n",
    "\n",
    "\n",
    "Run this first command in the notebook by clicking the run cell icon to the left of the command: \n"
   ]
  },
  {
   "cell_type": "markdown",
   "metadata": {
    "colab_type": "text",
    "id": "8sh-BZSCa_8M"
   },
   "source": [
    "# New Section"
   ]
  },
  {
   "cell_type": "markdown",
   "metadata": {
    "colab_type": "text",
    "id": "k8rFcQqHbAgR"
   },
   "source": [
    "# New Section"
   ]
  },
  {
   "cell_type": "code",
   "execution_count": 0,
   "metadata": {
    "colab": {},
    "colab_type": "code",
    "id": "msLjz5Fbac--",
    "pycharm": {}
   },
   "outputs": [],
   "source": [
    "!pip install py2neo==4.1.3 pandas matplotlib sklearn"
   ]
  },
  {
   "cell_type": "markdown",
   "metadata": {
    "colab_type": "text",
    "id": "8UVdpqYfac_B",
    "pycharm": {}
   },
   "source": [
    "\n",
    "If you see warnings or errors when you run this command, re-run the command. It should run with no errors.\n",
    "\n",
    "Start by importing py2neo library which we use to import the data into Neo4j. py2neo is a client library and toolkit for working with Neo4j from within Python applications. It is well suited for Data Science workflows and has great integration with other Python Data Science tools. Run this cell:"
   ]
  },
  {
   "cell_type": "code",
   "execution_count": 0,
   "metadata": {
    "colab": {},
    "colab_type": "code",
    "id": "27zUtaF4ac_C",
    "pycharm": {}
   },
   "outputs": [],
   "source": [
    "from py2neo import Graph"
   ]
  },
  {
   "cell_type": "markdown",
   "metadata": {
    "colab_type": "text",
    "id": "AQUVJOIFac_E",
    "pycharm": {}
   },
   "source": [
    "## Sandbox\n",
    "\n",
    "You should already have a Neo4j Citations Sandbox running. Select the Details tab for the Citations Sandbox so that you can see the IP Address, Bolt Port, and Password for the Sandbox.\n",
    "\n",
    "<div align=\"left\">\n",
    "    <img src=\"https://github.com/neo4j-contrib/training-v2/blob/master/Courses/DataScience/notebooks/images/sandbox-citations.png?raw=1\" alt=\"Citations Sandbox\"/>\n",
    "</div>\n"
   ]
  },
  {
   "cell_type": "code",
   "execution_count": 0,
   "metadata": {
    "colab": {},
    "colab_type": "code",
    "id": "d9HlqVbmac_F",
    "pycharm": {}
   },
   "outputs": [],
   "source": [
    "# Change the line of code below to use the IP Address, Bolt Port,  and Password of your Sandbox.\n",
    "# graph = Graph(\"<Bolt URL>\", auth=(\"neo4j\", \"<Password>\")) \n",
    " \n",
    "graph = Graph(\"bolt://52.3.242.176:33698\", auth=(\"neo4j\", \"equivalent-listing-parts\"))"
   ]
  },
  {
   "cell_type": "markdown",
   "metadata": {
    "colab_type": "text",
    "id": "1UCXHJy_ac_H",
    "pycharm": {}
   },
   "source": [
    "\n",
    "If that works fine, and no exceptions are thrown, you have verified that you can connect to the Neo4j Sandbox from your notebook and you are ready to continue with the rest of the course!\n",
    "\n",
    "**Keep this notebook open as you will need to copy the credentials into the other notebooks!**"
   ]
  }
 ],
 "metadata": {
  "colab": {
   "name": "Copy of 00_Environment.ipynb",
   "provenance": []
  },
  "kernelspec": {
   "display_name": "Python 3",
   "language": "python",
   "name": "python3"
  },
  "language_info": {
   "codemirror_mode": {
    "name": "ipython",
    "version": 3
   },
   "file_extension": ".py",
   "mimetype": "text/x-python",
   "name": "python",
   "nbconvert_exporter": "python",
   "pygments_lexer": "ipython3",
   "version": "3.6.9"
  }
 },
 "nbformat": 4,
 "nbformat_minor": 1
}

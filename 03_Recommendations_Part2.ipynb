{
  "nbformat": 4,
  "nbformat_minor": 0,
  "metadata": {
    "kernelspec": {
      "display_name": "Python 3",
      "language": "python",
      "name": "python3"
    },
    "language_info": {
      "codemirror_mode": {
        "name": "ipython",
        "version": 3
      },
      "file_extension": ".py",
      "mimetype": "text/x-python",
      "name": "python",
      "nbconvert_exporter": "python",
      "pygments_lexer": "ipython3",
      "version": "3.6.7"
    },
    "colab": {
      "name": "03_Recommendations_Part2.ipynb",
      "provenance": []
    }
  },
  "cells": [
    {
      "cell_type": "markdown",
      "metadata": {
        "pycharm": {},
        "id": "qH1vwbcYVpoY",
        "colab_type": "text"
      },
      "source": [
        "# Recommendations: Part 2\n",
        "\n",
        "In the 2nd part of our recommendations exercise, you will use the PageRank algorithm to make article recommendations to an author. \n",
        "Execute the code to import the libraries (remember to unset Reset all runtimes before running):"
      ]
    },
    {
      "cell_type": "code",
      "metadata": {
        "pycharm": {
          "metadata": false,
          "name": "#%%\n"
        },
        "id": "jTvzllMjVpod",
        "colab_type": "code",
        "colab": {}
      },
      "source": [
        "from py2neo import Graph\n",
        "import pandas as pd\n",
        "\n",
        "import matplotlib \n",
        "import matplotlib.pyplot as plt\n",
        "\n",
        "plt.style.use('fivethirtyeight')\n",
        "pd.set_option('display.float_format', lambda x: '%.3f' % x)\n",
        "pd.set_option('display.max_colwidth', 100)"
      ],
      "execution_count": 0,
      "outputs": []
    },
    {
      "cell_type": "markdown",
      "metadata": {
        "pycharm": {
          "metadata": false
        },
        "id": "5kJxXCDSVpoq",
        "colab_type": "text"
      },
      "source": [
        "Next, create a connection to your Neo4j Sandbox, just as you did previously when you set up your environment. \n",
        "\n",
        "<div align=\"left\">\n",
        "    <img src=\"https://github.com/neo4j-contrib/training-v2/blob/master/Courses/DataScience/notebooks/images/sandbox-citations.png?raw=1\" alt=\"Citation Sandbox\"/>\n",
        "</div>\n",
        "\n",
        "Update the cell below to use the IP Address, Bolt Port, and Password, as you did previously."
      ]
    },
    {
      "cell_type": "code",
      "metadata": {
        "pycharm": {
          "metadata": false,
          "name": "#%%\n"
        },
        "id": "52oeWFC4Vpos",
        "colab_type": "code",
        "colab": {}
      },
      "source": [
        "# Change the line of code below to use the IP Address, Bolt Port, and Password of your Sandbox.\n",
        "# graph = Graph(\"bolt://<IP Address>:<Bolt Port>\", auth=(\"neo4j\", \"<Password>\")) \n",
        " \n",
        "graph = Graph(\"bolt://52.3.242.176:33698\", auth=(\"neo4j\", \"equivalent-listing-parts\"))"
      ],
      "execution_count": 0,
      "outputs": []
    },
    {
      "cell_type": "markdown",
      "metadata": {
        "pycharm": {
          "metadata": false
        },
        "id": "AYZB9k3rVpo0",
        "colab_type": "text"
      },
      "source": [
        "## PageRank\n",
        "\n",
        "PageRank is an algorithm that measures the transitive influence or connectivity of nodes. It can be computed by either iteratively distributing one node’s rank (originally based on degree) over its neighbors or by randomly traversing the graph and counting the frequency of hitting each node during these walks.\n",
        "\n",
        "Run this PageRank code over the whole graph to find out the most influential article in terms of citations:"
      ]
    },
    {
      "cell_type": "code",
      "metadata": {
        "pycharm": {},
        "id": "Ce7XNTqyVpo3",
        "colab_type": "code",
        "colab": {}
      },
      "source": [
        "query = \"\"\"\n",
        "CALL algo.pageRank('Article', 'CITED')\n",
        "\"\"\"\n",
        "graph.run(query).data()"
      ],
      "execution_count": 0,
      "outputs": []
    },
    {
      "cell_type": "markdown",
      "metadata": {
        "pycharm": {},
        "id": "0RYXvvH7Vpo-",
        "colab_type": "text"
      },
      "source": [
        "This query stores a 'pagerank' property on each node. Execute this code to view the most influential articles:"
      ]
    },
    {
      "cell_type": "markdown",
      "metadata": {
        "pycharm": {},
        "id": "y8UIs6nFVppB",
        "colab_type": "text"
      },
      "source": [
        "query = \"\"\"\n",
        "MATCH (a:Article)\n",
        "RETURN a.title as article,\n",
        "       a.pagerank as score\n",
        "ORDER BY score DESC \n",
        "LIMIT 10\n",
        "\"\"\"\n",
        "graph.run(query).to_data_frame()"
      ]
    },
    {
      "cell_type": "markdown",
      "metadata": {
        "pycharm": {},
        "id": "hiywieOyVppJ",
        "colab_type": "text"
      },
      "source": [
        "## Personalized PageRank\n",
        "\n",
        "Personalized PageRank is a variant of PageRank that allows us to find influential nodes based on a set of source nodes.\n",
        "\n",
        "For example, rather than finding the overall most influential articles, we could instead, find the most influential articles with respect to a given author.\n",
        "Execute this code to use a personalized PageRank algorithm:"
      ]
    },
    {
      "cell_type": "code",
      "metadata": {
        "pycharm": {},
        "id": "eJzV1FsEVppV",
        "colab_type": "code",
        "colab": {}
      },
      "source": [
        "query = \"\"\"\n",
        "MATCH (a:Author {name: $author})<-[:AUTHOR]-(article)-[:CITED]->(other)\n",
        "WITH collect(article) + collect(other) AS sourceNodes\n",
        "CALL algo.pageRank.stream('Article', 'CITED', {sourceNodes: sourceNodes})\n",
        "YIELD nodeId, score\n",
        "RETURN algo.getNodeById(nodeId).title AS article, score\n",
        "ORDER BY score DESC\n",
        "LIMIT 10\n",
        "\"\"\"\n",
        "\n",
        "author_name = \"Peter G. Neumann\"\n",
        "graph.run(query, {\"author\": author_name}).to_data_frame()"
      ],
      "execution_count": 0,
      "outputs": []
    },
    {
      "cell_type": "markdown",
      "metadata": {
        "pycharm": {},
        "id": "2xdqiDACVppi",
        "colab_type": "text"
      },
      "source": [
        "## Topic Sensitive Search\n",
        "\n",
        "You can also use Personalized PageRank to do 'Topic Specific PageRank'. \n",
        "\n",
        "When an author is searching for articles to read, they want that search to take themselves as authors into account. Two authors using the same search term would expect to see different results depending on their area of research.\n",
        "\n",
        "Create a full text search index on the 'title' and 'abstract' properties of all nodes that have the label 'Article' by executing this code:"
      ]
    },
    {
      "cell_type": "code",
      "metadata": {
        "pycharm": {},
        "id": "0yFWDbE8Vppm",
        "colab_type": "code",
        "colab": {}
      },
      "source": [
        "query = \"\"\"\n",
        "    CALL db.index.fulltext.createNodeIndex('articles', ['Article'], ['title', 'abstract'])\n",
        "\"\"\"\n",
        "graph.run(query).data()"
      ],
      "execution_count": 0,
      "outputs": []
    },
    {
      "cell_type": "markdown",
      "metadata": {
        "pycharm": {},
        "id": "bj5n1I0TVppt",
        "colab_type": "text"
      },
      "source": [
        "Check that the full text index has been created by running the following query:"
      ]
    },
    {
      "cell_type": "code",
      "metadata": {
        "pycharm": {},
        "id": "8MdLkJE8Vppw",
        "colab_type": "code",
        "colab": {}
      },
      "source": [
        "query = \"\"\"\n",
        "CALL db.indexes()\n",
        "YIELD description, indexName, tokenNames, properties, state, type, progress\n",
        "WHERE type = \"node_fulltext\"\n",
        "RETURN *\n",
        "\"\"\"\n",
        "graph.run(query).to_data_frame()"
      ],
      "execution_count": 0,
      "outputs": []
    },
    {
      "cell_type": "markdown",
      "metadata": {
        "pycharm": {},
        "id": "C-CB4Sg0Vpp0",
        "colab_type": "text"
      },
      "source": [
        "You can search the full text index like this:"
      ]
    },
    {
      "cell_type": "code",
      "metadata": {
        "pycharm": {},
        "id": "b1AFvJYtVpp3",
        "colab_type": "code",
        "colab": {}
      },
      "source": [
        "query = \"\"\"\n",
        "CALL db.index.fulltext.queryNodes(\"articles\", \"open source\")\n",
        "YIELD node, score\n",
        "RETURN node.title, score, [(author)<-[:AUTHOR]-(node) | author.name] AS authors\n",
        "LIMIT 10\n",
        "\"\"\"\n",
        "graph.run(query).to_data_frame()"
      ],
      "execution_count": 0,
      "outputs": []
    },
    {
      "cell_type": "markdown",
      "metadata": {
        "pycharm": {},
        "id": "S7Ni_ab8Vpp8",
        "colab_type": "text"
      },
      "source": [
        "Here is a query to find the authors that have published the most articles on 'open source':"
      ]
    },
    {
      "cell_type": "code",
      "metadata": {
        "pycharm": {},
        "id": "_gqa_A01Vpp9",
        "colab_type": "code",
        "colab": {}
      },
      "source": [
        "query = \"\"\"\n",
        "CALL db.index.fulltext.queryNodes(\"articles\", \"open source\")\n",
        "YIELD node, score\n",
        "MATCH (node)-[:AUTHOR]->(author)\n",
        "RETURN author.name, sum(score) AS totalScore, collect(node.title) AS articles\n",
        "ORDER By totalScore DESC\n",
        "LIMIT 20\n",
        "\"\"\"\n",
        "\n",
        "graph.run(query).to_data_frame()"
      ],
      "execution_count": 0,
      "outputs": []
    },
    {
      "cell_type": "markdown",
      "metadata": {
        "pycharm": {},
        "id": "ky9fNAwMVpqE",
        "colab_type": "text"
      },
      "source": [
        "Next, use full text search and Personalized PageRank to find interesting articles for different authors:"
      ]
    },
    {
      "cell_type": "code",
      "metadata": {
        "pycharm": {},
        "id": "8d4paSijVpqF",
        "colab_type": "code",
        "colab": {}
      },
      "source": [
        "query = \"\"\"\n",
        "MATCH (a:Author {name: $author})<-[:AUTHOR]-(article)-[:CITED]->(other)\n",
        "WITH a, collect(article) + collect(other) AS sourceNodes\n",
        "CALL algo.pageRank.stream(\n",
        "  'CALL db.index.fulltext.queryNodes(\"articles\", $searchTerm)\n",
        "   YIELD node, score\n",
        "   RETURN id(node) as id',\n",
        "  'MATCH (a1:Article)-[:CITED]->(a2:Article) \n",
        "   RETURN id(a1) as source,id(a2) as target', \n",
        "  {sourceNodes: sourceNodes,graph:'cypher', params: {searchTerm: $searchTerm}})\n",
        "YIELD nodeId, score\n",
        "WITH algo.getNodeById(nodeId) AS n, score\n",
        "WHERE not(exists((a)<-[:AUTHOR]-(n))) AND score > 0\n",
        "RETURN n.title as article, score, [(n)-[:AUTHOR]->(author) | author.name][..5] AS authors\n",
        "order by score desc limit 10\n",
        "\"\"\"\n",
        "\n",
        "params = {\"author\": \"Tao Xie\", \"searchTerm\": \"open source\"}\n",
        "graph.run(query, params).to_data_frame()"
      ],
      "execution_count": 0,
      "outputs": []
    },
    {
      "cell_type": "markdown",
      "metadata": {
        "pycharm": {},
        "id": "VUb4Uv3xVpqJ",
        "colab_type": "text"
      },
      "source": [
        "Execute the same query with a different author:"
      ]
    },
    {
      "cell_type": "code",
      "metadata": {
        "pycharm": {},
        "id": "VGH3FmbAVpqL",
        "colab_type": "code",
        "colab": {}
      },
      "source": [
        "params = {\"author\": \"Marco Aurélio Gerosa\", \"searchTerm\": \"open source\"}\n",
        "graph.run(query, params).to_data_frame()"
      ],
      "execution_count": 0,
      "outputs": []
    }
  ]
}